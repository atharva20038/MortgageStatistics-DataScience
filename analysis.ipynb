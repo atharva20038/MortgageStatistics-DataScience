{
 "cells": [
  {
   "cell_type": "code",
   "execution_count": 13,
   "metadata": {},
   "outputs": [],
   "source": [
    "import pandas as pd\n",
    "import numpy as np\n",
    "import matplotlib.pyplot as plt\n",
    "import seaborn as sns\n",
    "from scipy import stats"
   ]
  },
  {
   "cell_type": "code",
   "execution_count": 2,
   "metadata": {},
   "outputs": [],
   "source": [
    "data = pd.read_csv('new_data.csv')"
   ]
  },
  {
   "cell_type": "code",
   "execution_count": 3,
   "metadata": {},
   "outputs": [
    {
     "data": {
      "text/plain": [
       "Index(['GEOLEVEL', 'GEOID', 'GEONAME', 'MARKET', 'YEAR', 'TOT_ORIG',\n",
       "       'AVE_LOANAMT', 'AVE_PROPVAL', 'AVE_INTRATE', 'PCT_INTRATE_LT_3',\n",
       "       'PCT_INTRATE_3_4', 'PCT_INTRATE_4_5', 'PCT_INTRATE_5_6',\n",
       "       'PCT_INTRATE_GE_6', 'PCT_OWNOCC', 'AVE_TERM', 'PCT_ARM',\n",
       "       'PCT_TERM_FRM_15', 'PCT_TERM_FRM_30', 'AVE_DTI', 'PCT_DTI_LE36',\n",
       "       'PCT_DTI_3743', 'PCT_DTI_GE44', 'AVE_VANTAGESCR', 'PCT_VS_VERYPOOR',\n",
       "       'PCT_VS_POOR', 'PCT_VS_FAIR', 'PCT_VS_GOOD', 'PCT_VS_EXCELLENT',\n",
       "       'AVE_LTV', 'AVE_CLTV', 'PCT_LTV_LE70', 'PCT_LTV_7080', 'PCT_LTV_8090',\n",
       "       'PCT_LTV_9095', 'PCT_LTV_9597', 'PCT_LTV_GT97', 'PCT_GOVERNMENT',\n",
       "       'PCT_ENTERPRISE', 'PCT_OTHERCONFORMING', 'PCT_NONCONFORMING', 'PCT_WHT',\n",
       "       'PCT_BLK', 'PCT_ASN', 'PCT_HPI', 'PCT_AMI', 'PCT_MIX', 'PCT_HIS',\n",
       "       'PCT_HSP', 'PCT_WNH', 'PCT_MNH', 'AVE_AGE_BORROWER', 'PCT_AGE_LT25',\n",
       "       'PCT_AGE_2534', 'PCT_AGE_3544', 'PCT_AGE_4554', 'PCT_AGE_5564',\n",
       "       'PCT_AGE_GE65', 'PCT_MALEBOR', 'PCT_FEMALEBOR', 'PCT_TWOBOR',\n",
       "       'PCT_MULTIBOR', 'UNEMPLOYMENT_RATE', 'ANNUAL_CHANGE_UNEMPLOYMENT_RATE',\n",
       "       'GDP ( Billions of US $)', 'ANNUAL_CHANGE_GDP'],\n",
       "      dtype='object')"
      ]
     },
     "execution_count": 3,
     "metadata": {},
     "output_type": "execute_result"
    }
   ],
   "source": [
    "data.columns"
   ]
  },
  {
   "cell_type": "code",
   "execution_count": 4,
   "metadata": {},
   "outputs": [
    {
     "data": {
      "text/plain": [
       "array(['National', 'Census Region', 'Census Division', 'State'],\n",
       "      dtype=object)"
      ]
     },
     "execution_count": 4,
     "metadata": {},
     "output_type": "execute_result"
    }
   ],
   "source": [
    "data['GEOLEVEL'].unique()"
   ]
  },
  {
   "cell_type": "code",
   "execution_count": 5,
   "metadata": {},
   "outputs": [],
   "source": [
    "state_data = data[data['GEOLEVEL'] == 'State']"
   ]
  },
  {
   "cell_type": "code",
   "execution_count": 6,
   "metadata": {},
   "outputs": [
    {
     "data": {
      "text/html": [
       "<div>\n",
       "<style scoped>\n",
       "    .dataframe tbody tr th:only-of-type {\n",
       "        vertical-align: middle;\n",
       "    }\n",
       "\n",
       "    .dataframe tbody tr th {\n",
       "        vertical-align: top;\n",
       "    }\n",
       "\n",
       "    .dataframe thead th {\n",
       "        text-align: right;\n",
       "    }\n",
       "</style>\n",
       "<table border=\"1\" class=\"dataframe\">\n",
       "  <thead>\n",
       "    <tr style=\"text-align: right;\">\n",
       "      <th></th>\n",
       "      <th>GEOLEVEL</th>\n",
       "      <th>GEOID</th>\n",
       "      <th>GEONAME</th>\n",
       "      <th>MARKET</th>\n",
       "      <th>YEAR</th>\n",
       "      <th>TOT_ORIG</th>\n",
       "      <th>AVE_LOANAMT</th>\n",
       "      <th>AVE_PROPVAL</th>\n",
       "      <th>AVE_INTRATE</th>\n",
       "      <th>PCT_INTRATE_LT_3</th>\n",
       "      <th>...</th>\n",
       "      <th>PCT_AGE_5564</th>\n",
       "      <th>PCT_AGE_GE65</th>\n",
       "      <th>PCT_MALEBOR</th>\n",
       "      <th>PCT_FEMALEBOR</th>\n",
       "      <th>PCT_TWOBOR</th>\n",
       "      <th>PCT_MULTIBOR</th>\n",
       "      <th>UNEMPLOYMENT_RATE</th>\n",
       "      <th>ANNUAL_CHANGE_UNEMPLOYMENT_RATE</th>\n",
       "      <th>GDP ( Billions of US $)</th>\n",
       "      <th>ANNUAL_CHANGE_GDP</th>\n",
       "    </tr>\n",
       "  </thead>\n",
       "  <tbody>\n",
       "    <tr>\n",
       "      <th>336</th>\n",
       "      <td>State</td>\n",
       "      <td>AK</td>\n",
       "      <td>Alaska</td>\n",
       "      <td>All Mortgages</td>\n",
       "      <td>1998</td>\n",
       "      <td>26.0</td>\n",
       "      <td>120.0</td>\n",
       "      <td>154.0</td>\n",
       "      <td>6.9</td>\n",
       "      <td>0.0</td>\n",
       "      <td>...</td>\n",
       "      <td>7.3</td>\n",
       "      <td>2.6</td>\n",
       "      <td>22.5</td>\n",
       "      <td>14.7</td>\n",
       "      <td>62.5</td>\n",
       "      <td>0.4</td>\n",
       "      <td>4.51</td>\n",
       "      <td>-0.49</td>\n",
       "      <td>9062.818202</td>\n",
       "      <td>4.4814</td>\n",
       "    </tr>\n",
       "    <tr>\n",
       "      <th>337</th>\n",
       "      <td>State</td>\n",
       "      <td>AK</td>\n",
       "      <td>Alaska</td>\n",
       "      <td>All Mortgages</td>\n",
       "      <td>1999</td>\n",
       "      <td>19.0</td>\n",
       "      <td>125.0</td>\n",
       "      <td>161.0</td>\n",
       "      <td>7.2</td>\n",
       "      <td>0.0</td>\n",
       "      <td>...</td>\n",
       "      <td>10.6</td>\n",
       "      <td>2.2</td>\n",
       "      <td>21.8</td>\n",
       "      <td>16.9</td>\n",
       "      <td>60.7</td>\n",
       "      <td>0.6</td>\n",
       "      <td>4.22</td>\n",
       "      <td>-0.29</td>\n",
       "      <td>9631.174489</td>\n",
       "      <td>4.7945</td>\n",
       "    </tr>\n",
       "    <tr>\n",
       "      <th>338</th>\n",
       "      <td>State</td>\n",
       "      <td>AK</td>\n",
       "      <td>Alaska</td>\n",
       "      <td>All Mortgages</td>\n",
       "      <td>2000</td>\n",
       "      <td>13.0</td>\n",
       "      <td>127.0</td>\n",
       "      <td>161.0</td>\n",
       "      <td>8.0</td>\n",
       "      <td>0.0</td>\n",
       "      <td>...</td>\n",
       "      <td>9.7</td>\n",
       "      <td>3.2</td>\n",
       "      <td>26.5</td>\n",
       "      <td>18.5</td>\n",
       "      <td>54.2</td>\n",
       "      <td>0.8</td>\n",
       "      <td>3.99</td>\n",
       "      <td>-0.23</td>\n",
       "      <td>10250.947997</td>\n",
       "      <td>4.0772</td>\n",
       "    </tr>\n",
       "    <tr>\n",
       "      <th>339</th>\n",
       "      <td>State</td>\n",
       "      <td>AK</td>\n",
       "      <td>Alaska</td>\n",
       "      <td>All Mortgages</td>\n",
       "      <td>2001</td>\n",
       "      <td>23.0</td>\n",
       "      <td>137.0</td>\n",
       "      <td>181.0</td>\n",
       "      <td>6.9</td>\n",
       "      <td>0.0</td>\n",
       "      <td>...</td>\n",
       "      <td>9.8</td>\n",
       "      <td>3.1</td>\n",
       "      <td>22.3</td>\n",
       "      <td>16.1</td>\n",
       "      <td>61.1</td>\n",
       "      <td>0.4</td>\n",
       "      <td>4.73</td>\n",
       "      <td>0.74</td>\n",
       "      <td>10581.929774</td>\n",
       "      <td>0.9543</td>\n",
       "    </tr>\n",
       "    <tr>\n",
       "      <th>340</th>\n",
       "      <td>State</td>\n",
       "      <td>AK</td>\n",
       "      <td>Alaska</td>\n",
       "      <td>All Mortgages</td>\n",
       "      <td>2002</td>\n",
       "      <td>29.0</td>\n",
       "      <td>152.0</td>\n",
       "      <td>204.0</td>\n",
       "      <td>6.3</td>\n",
       "      <td>0.0</td>\n",
       "      <td>...</td>\n",
       "      <td>11.1</td>\n",
       "      <td>2.9</td>\n",
       "      <td>22.5</td>\n",
       "      <td>14.6</td>\n",
       "      <td>62.7</td>\n",
       "      <td>0.2</td>\n",
       "      <td>5.78</td>\n",
       "      <td>1.05</td>\n",
       "      <td>10929.112955</td>\n",
       "      <td>1.6959</td>\n",
       "    </tr>\n",
       "    <tr>\n",
       "      <th>...</th>\n",
       "      <td>...</td>\n",
       "      <td>...</td>\n",
       "      <td>...</td>\n",
       "      <td>...</td>\n",
       "      <td>...</td>\n",
       "      <td>...</td>\n",
       "      <td>...</td>\n",
       "      <td>...</td>\n",
       "      <td>...</td>\n",
       "      <td>...</td>\n",
       "      <td>...</td>\n",
       "      <td>...</td>\n",
       "      <td>...</td>\n",
       "      <td>...</td>\n",
       "      <td>...</td>\n",
       "      <td>...</td>\n",
       "      <td>...</td>\n",
       "      <td>...</td>\n",
       "      <td>...</td>\n",
       "      <td>...</td>\n",
       "      <td>...</td>\n",
       "    </tr>\n",
       "    <tr>\n",
       "      <th>37440</th>\n",
       "      <td>State</td>\n",
       "      <td>WY</td>\n",
       "      <td>Wyoming</td>\n",
       "      <td>Jumbo Market (Refinance)</td>\n",
       "      <td>2017</td>\n",
       "      <td>0.0</td>\n",
       "      <td>936.0</td>\n",
       "      <td>1684.0</td>\n",
       "      <td>4.2</td>\n",
       "      <td>0.0</td>\n",
       "      <td>...</td>\n",
       "      <td>0.0</td>\n",
       "      <td>20.0</td>\n",
       "      <td>60.0</td>\n",
       "      <td>0.0</td>\n",
       "      <td>40.0</td>\n",
       "      <td>0.0</td>\n",
       "      <td>4.36</td>\n",
       "      <td>-0.51</td>\n",
       "      <td>19477.336549</td>\n",
       "      <td>2.2419</td>\n",
       "    </tr>\n",
       "    <tr>\n",
       "      <th>37441</th>\n",
       "      <td>State</td>\n",
       "      <td>WY</td>\n",
       "      <td>Wyoming</td>\n",
       "      <td>Jumbo Market (Refinance)</td>\n",
       "      <td>2018</td>\n",
       "      <td>0.0</td>\n",
       "      <td>1566.0</td>\n",
       "      <td>2956.0</td>\n",
       "      <td>4.1</td>\n",
       "      <td>0.0</td>\n",
       "      <td>...</td>\n",
       "      <td>20.0</td>\n",
       "      <td>0.0</td>\n",
       "      <td>20.0</td>\n",
       "      <td>20.0</td>\n",
       "      <td>60.0</td>\n",
       "      <td>0.0</td>\n",
       "      <td>3.90</td>\n",
       "      <td>-0.46</td>\n",
       "      <td>20533.057312</td>\n",
       "      <td>2.9454</td>\n",
       "    </tr>\n",
       "    <tr>\n",
       "      <th>37442</th>\n",
       "      <td>State</td>\n",
       "      <td>WY</td>\n",
       "      <td>Wyoming</td>\n",
       "      <td>Jumbo Market (Refinance)</td>\n",
       "      <td>2019</td>\n",
       "      <td>0.0</td>\n",
       "      <td>2094.0</td>\n",
       "      <td>4472.0</td>\n",
       "      <td>3.5</td>\n",
       "      <td>40.0</td>\n",
       "      <td>...</td>\n",
       "      <td>40.0</td>\n",
       "      <td>0.0</td>\n",
       "      <td>20.0</td>\n",
       "      <td>0.0</td>\n",
       "      <td>80.0</td>\n",
       "      <td>0.0</td>\n",
       "      <td>3.67</td>\n",
       "      <td>-0.23</td>\n",
       "      <td>21380.976119</td>\n",
       "      <td>2.2944</td>\n",
       "    </tr>\n",
       "    <tr>\n",
       "      <th>37443</th>\n",
       "      <td>State</td>\n",
       "      <td>WY</td>\n",
       "      <td>Wyoming</td>\n",
       "      <td>Jumbo Market (Refinance)</td>\n",
       "      <td>2020</td>\n",
       "      <td>0.0</td>\n",
       "      <td>3041.0</td>\n",
       "      <td>2946.0</td>\n",
       "      <td>3.0</td>\n",
       "      <td>40.0</td>\n",
       "      <td>...</td>\n",
       "      <td>20.0</td>\n",
       "      <td>20.0</td>\n",
       "      <td>60.0</td>\n",
       "      <td>0.0</td>\n",
       "      <td>40.0</td>\n",
       "      <td>0.0</td>\n",
       "      <td>8.05</td>\n",
       "      <td>4.38</td>\n",
       "      <td>21060.473613</td>\n",
       "      <td>-2.7678</td>\n",
       "    </tr>\n",
       "    <tr>\n",
       "      <th>37444</th>\n",
       "      <td>State</td>\n",
       "      <td>WY</td>\n",
       "      <td>Wyoming</td>\n",
       "      <td>Jumbo Market (Refinance)</td>\n",
       "      <td>2021</td>\n",
       "      <td>0.0</td>\n",
       "      <td>1035.0</td>\n",
       "      <td>3903.0</td>\n",
       "      <td>3.0</td>\n",
       "      <td>71.4</td>\n",
       "      <td>...</td>\n",
       "      <td>42.9</td>\n",
       "      <td>0.0</td>\n",
       "      <td>28.6</td>\n",
       "      <td>14.3</td>\n",
       "      <td>57.1</td>\n",
       "      <td>0.0</td>\n",
       "      <td>5.35</td>\n",
       "      <td>-2.70</td>\n",
       "      <td>23315.080560</td>\n",
       "      <td>5.9455</td>\n",
       "    </tr>\n",
       "  </tbody>\n",
       "</table>\n",
       "<p>29381 rows × 66 columns</p>\n",
       "</div>"
      ],
      "text/plain": [
       "      GEOLEVEL GEOID  GEONAME                    MARKET  YEAR  TOT_ORIG  \\\n",
       "336      State    AK   Alaska             All Mortgages  1998      26.0   \n",
       "337      State    AK   Alaska             All Mortgages  1999      19.0   \n",
       "338      State    AK   Alaska             All Mortgages  2000      13.0   \n",
       "339      State    AK   Alaska             All Mortgages  2001      23.0   \n",
       "340      State    AK   Alaska             All Mortgages  2002      29.0   \n",
       "...        ...   ...      ...                       ...   ...       ...   \n",
       "37440    State    WY  Wyoming  Jumbo Market (Refinance)  2017       0.0   \n",
       "37441    State    WY  Wyoming  Jumbo Market (Refinance)  2018       0.0   \n",
       "37442    State    WY  Wyoming  Jumbo Market (Refinance)  2019       0.0   \n",
       "37443    State    WY  Wyoming  Jumbo Market (Refinance)  2020       0.0   \n",
       "37444    State    WY  Wyoming  Jumbo Market (Refinance)  2021       0.0   \n",
       "\n",
       "       AVE_LOANAMT  AVE_PROPVAL  AVE_INTRATE  PCT_INTRATE_LT_3  ...  \\\n",
       "336          120.0        154.0          6.9               0.0  ...   \n",
       "337          125.0        161.0          7.2               0.0  ...   \n",
       "338          127.0        161.0          8.0               0.0  ...   \n",
       "339          137.0        181.0          6.9               0.0  ...   \n",
       "340          152.0        204.0          6.3               0.0  ...   \n",
       "...            ...          ...          ...               ...  ...   \n",
       "37440        936.0       1684.0          4.2               0.0  ...   \n",
       "37441       1566.0       2956.0          4.1               0.0  ...   \n",
       "37442       2094.0       4472.0          3.5              40.0  ...   \n",
       "37443       3041.0       2946.0          3.0              40.0  ...   \n",
       "37444       1035.0       3903.0          3.0              71.4  ...   \n",
       "\n",
       "       PCT_AGE_5564  PCT_AGE_GE65  PCT_MALEBOR  PCT_FEMALEBOR  PCT_TWOBOR  \\\n",
       "336             7.3           2.6         22.5           14.7        62.5   \n",
       "337            10.6           2.2         21.8           16.9        60.7   \n",
       "338             9.7           3.2         26.5           18.5        54.2   \n",
       "339             9.8           3.1         22.3           16.1        61.1   \n",
       "340            11.1           2.9         22.5           14.6        62.7   \n",
       "...             ...           ...          ...            ...         ...   \n",
       "37440           0.0          20.0         60.0            0.0        40.0   \n",
       "37441          20.0           0.0         20.0           20.0        60.0   \n",
       "37442          40.0           0.0         20.0            0.0        80.0   \n",
       "37443          20.0          20.0         60.0            0.0        40.0   \n",
       "37444          42.9           0.0         28.6           14.3        57.1   \n",
       "\n",
       "       PCT_MULTIBOR  UNEMPLOYMENT_RATE  ANNUAL_CHANGE_UNEMPLOYMENT_RATE  \\\n",
       "336             0.4               4.51                            -0.49   \n",
       "337             0.6               4.22                            -0.29   \n",
       "338             0.8               3.99                            -0.23   \n",
       "339             0.4               4.73                             0.74   \n",
       "340             0.2               5.78                             1.05   \n",
       "...             ...                ...                              ...   \n",
       "37440           0.0               4.36                            -0.51   \n",
       "37441           0.0               3.90                            -0.46   \n",
       "37442           0.0               3.67                            -0.23   \n",
       "37443           0.0               8.05                             4.38   \n",
       "37444           0.0               5.35                            -2.70   \n",
       "\n",
       "       GDP ( Billions of US $)  ANNUAL_CHANGE_GDP  \n",
       "336                9062.818202             4.4814  \n",
       "337                9631.174489             4.7945  \n",
       "338               10250.947997             4.0772  \n",
       "339               10581.929774             0.9543  \n",
       "340               10929.112955             1.6959  \n",
       "...                        ...                ...  \n",
       "37440             19477.336549             2.2419  \n",
       "37441             20533.057312             2.9454  \n",
       "37442             21380.976119             2.2944  \n",
       "37443             21060.473613            -2.7678  \n",
       "37444             23315.080560             5.9455  \n",
       "\n",
       "[29381 rows x 66 columns]"
      ]
     },
     "execution_count": 6,
     "metadata": {},
     "output_type": "execute_result"
    }
   ],
   "source": [
    "state_data "
   ]
  },
  {
   "cell_type": "code",
   "execution_count": 11,
   "metadata": {},
   "outputs": [],
   "source": [
    "state_wise_data = {}\n",
    "for id in state_data['GEOID'].unique():\n",
    "    state_wise_data[id] = state_data[state_data['GEOID'] == id]"
   ]
  },
  {
   "cell_type": "markdown",
   "metadata": {},
   "source": [
    "### ANOVA TEST"
   ]
  },
  {
   "cell_type": "markdown",
   "metadata": {},
   "source": [
    "#### TOT_ORIG"
   ]
  },
  {
   "cell_type": "code",
   "execution_count": 18,
   "metadata": {},
   "outputs": [
    {
     "name": "stdout",
     "output_type": "stream",
     "text": [
      "ANOVA Test Result:\n",
      "F-statistic: 342.48728611459245\n",
      "p-value: 0.0\n"
     ]
    }
   ],
   "source": [
    "# perform anova test between each state for TOT_ORIG\n",
    "\n",
    "# Perform ANOVA test\n",
    "temp  = list(state_wise_data.values())\n",
    "temp = [x['TOT_ORIG'] for x in temp]\n",
    "result = stats.f_oneway(*temp)\n",
    "\n",
    "# Print the ANOVA test result\n",
    "print(\"ANOVA Test Result:\")\n",
    "print(\"F-statistic:\", result.statistic)\n",
    "print(\"p-value:\", result.pvalue)\n"
   ]
  },
  {
   "cell_type": "code",
   "execution_count": 42,
   "metadata": {},
   "outputs": [
    {
     "name": "stderr",
     "output_type": "stream",
     "text": [
      "C:\\Users\\Dell\\AppData\\Local\\Packages\\PythonSoftwareFoundation.Python.3.11_qbz5n2kfra8p0\\LocalCache\\local-packages\\Python311\\site-packages\\scipy\\integrate\\_quadpack_py.py:1233: IntegrationWarning: The integral is probably divergent, or slowly convergent.\n",
      "  quad_r = quad(f, low, high, args=args, full_output=self.full_output,\n"
     ]
    }
   ],
   "source": [
    "from statsmodels.stats.multicomp import pairwise_tukeyhsd\n",
    "from statsmodels.stats.multicomp import MultiComparison\n",
    "mc = MultiComparison(state_data['TOT_ORIG'], state_data['GEOID'])\n",
    "result = mc.tukeyhsd()"
   ]
  },
  {
   "cell_type": "code",
   "execution_count": 43,
   "metadata": {},
   "outputs": [
    {
     "name": "stdout",
     "output_type": "stream",
     "text": [
      "Number of not rejects: 400\n",
      "Number of rejects: 875\n"
     ]
    }
   ],
   "source": [
    "reject = np.where(result.reject == False)[0]\n",
    "print(\"Number of not rejects:\", len(reject))\n",
    "print(\"Number of rejects:\", len(result.reject) - len(reject))"
   ]
  },
  {
   "cell_type": "code",
   "execution_count": 25,
   "metadata": {},
   "outputs": [
    {
     "data": {
      "image/png": "[encoded data removed]",
      "text/plain": [
       "<Figure size 2000x1000 with 1 Axes>"
      ]
     },
     "metadata": {},
     "output_type": "display_data"
    }
   ],
   "source": [
    "#plot of TOT_ORIG for each state\n",
    "plt.figure(figsize=(20,10))\n",
    "plt.title('Total Originatiaons for each state')\n",
    "plt.xlabel('State')\n",
    "plt.ylabel('Total Originations')\n",
    "plt.bar(state_data['GEOID'].unique(), state_data.groupby('GEOID')['TOT_ORIG'].sum())\n",
    "plt.show()"
   ]
  },
  {
   "cell_type": "markdown",
   "metadata": {},
   "source": [
    "#### AVE_LOANANT"
   ]
  },
  {
   "cell_type": "code",
   "execution_count": 26,
   "metadata": {},
   "outputs": [
    {
     "name": "stdout",
     "output_type": "stream",
     "text": [
      "ANOVA Test Result:\n",
      "F-statistic: 35.70318260463009\n",
      "p-value: 0.0\n"
     ]
    }
   ],
   "source": [
    "temp  = list(state_wise_data.values())\n",
    "temp = [x['AVE_LOANAMT'] for x in temp]\n",
    "result = stats.f_oneway(*temp)\n",
    "\n",
    "# Print the ANOVA test result\n",
    "print(\"ANOVA Test Result:\")\n",
    "print(\"F-statistic:\", result.statistic)\n",
    "print(\"p-value:\", result.pvalue)"
   ]
  },
  {
   "cell_type": "code",
   "execution_count": 30,
   "metadata": {},
   "outputs": [],
   "source": [
    "# post-hoc test\n",
    "from statsmodels.stats.multicomp import pairwise_tukeyhsd\n",
    "from statsmodels.stats.multicomp import MultiComparison\n",
    "mc = MultiComparison(state_data['AVE_LOANAMT'], state_data['GEOID'])\n",
    "result = mc.tukeyhsd()"
   ]
  },
  {
   "cell_type": "code",
   "execution_count": 41,
   "metadata": {},
   "outputs": [
    {
     "name": "stdout",
     "output_type": "stream",
     "text": [
      "Number of not rejects: 724\n",
      "Number of rejects: 551\n"
     ]
    }
   ],
   "source": [
    "# count number of rejecs = false\n",
    "reject = np.where(result.reject == False)[0]\n",
    "print(\"Number of not rejects:\", len(reject))\n",
    "print(\"Number of rejects:\", len(result.reject) - len(reject))"
   ]
  },
  {
   "cell_type": "code",
   "execution_count": 27,
   "metadata": {},
   "outputs": [
    {
     "data": {
      "image/png": "[encoded data removed]",
      "text/plain": [
       "<Figure size 2000x1000 with 1 Axes>"
      ]
     },
     "metadata": {},
     "output_type": "display_data"
    }
   ],
   "source": [
    "# plot of AVE_LOANAMT for each state\n",
    "plt.figure(figsize=(20,10))\n",
    "plt.title('Average Loan Amount for each state')\n",
    "plt.xlabel('State')\n",
    "plt.ylabel('Average Loan Amount')\n",
    "plt.bar(state_data['GEOID'].unique(), state_data.groupby('GEOID')['AVE_LOANAMT'].sum()) \n",
    "plt.show()"
   ]
  },
  {
   "cell_type": "markdown",
   "metadata": {},
   "source": [
    "#### AVE_INTRATE"
   ]
  },
  {
   "cell_type": "code",
   "execution_count": 45,
   "metadata": {},
   "outputs": [
    {
     "name": "stdout",
     "output_type": "stream",
     "text": [
      "ANOVA Test Result:\n",
      "F-statistic: 1.873370854377587\n",
      "p-value: 0.00018365483723495088\n"
     ]
    }
   ],
   "source": [
    "temp  = list(state_wise_data.values())\n",
    "temp = [x['AVE_INTRATE'] for x in temp]\n",
    "result = stats.f_oneway(*temp)\n",
    "\n",
    "# Print the ANOVA test result\n",
    "print(\"ANOVA Test Result:\")\n",
    "print(\"F-statistic:\", result.statistic)\n",
    "print(\"p-value:\", result.pvalue)"
   ]
  },
  {
   "cell_type": "code",
   "execution_count": 47,
   "metadata": {},
   "outputs": [
    {
     "data": {
      "image/png": "[encoded data removed]",
      "text/plain": [
       "<Figure size 2000x1000 with 1 Axes>"
      ]
     },
     "metadata": {},
     "output_type": "display_data"
    }
   ],
   "source": [
    "# plot of AVE_INTRATE for each state\n",
    "plt.figure(figsize=(20,10))\n",
    "plt.title('Average Interest Rate for each state')\n",
    "plt.xlabel('State')\n",
    "plt.ylabel('Average Interest Rate')\n",
    "plt.bar(state_data['GEOID'].unique(), state_data.groupby('GEOID')['AVE_INTRATE'].sum()/576)\n",
    "plt.show()"
   ]
  },
  {
   "cell_type": "code",
   "execution_count": 48,
   "metadata": {},
   "outputs": [
    {
     "name": "stderr",
     "output_type": "stream",
     "text": [
      "C:\\Users\\Dell\\AppData\\Local\\Packages\\PythonSoftwareFoundation.Python.3.11_qbz5n2kfra8p0\\LocalCache\\local-packages\\Python311\\site-packages\\scipy\\integrate\\_quadpack_py.py:1233: IntegrationWarning: The integral is probably divergent, or slowly convergent.\n",
      "  quad_r = quad(f, low, high, args=args, full_output=self.full_output,\n"
     ]
    }
   ],
   "source": [
    "# post-hoc test\n",
    "from statsmodels.stats.multicomp import pairwise_tukeyhsd\n",
    "from statsmodels.stats.multicomp import MultiComparison\n",
    "mc = MultiComparison(state_data['AVE_INTRATE'], state_data['GEOID'])\n",
    "result = mc.tukeyhsd()"
   ]
  },
  {
   "cell_type": "code",
   "execution_count": 49,
   "metadata": {},
   "outputs": [
    {
     "name": "stdout",
     "output_type": "stream",
     "text": [
      "Number of not rejects: 1271\n",
      "Number of rejects: 4\n"
     ]
    }
   ],
   "source": [
    "# count number of rejecs = false\n",
    "reject = np.where(result.reject == False)[0]\n",
    "print(\"Number of not rejects:\", len(reject))\n",
    "print(\"Number of rejects:\", len(result.reject) - len(reject))"
   ]
  },
  {
   "cell_type": "code",
   "execution_count": null,
   "metadata": {},
   "outputs": [],
   "source": []
  }
 ],
 "metadata": {
  "kernelspec": {
   "display_name": "Python 3",
   "language": "python",
   "name": "python3"
  },
  "language_info": {
   "codemirror_mode": {
    "name": "ipython",
    "version": 3
   },
   "file_extension": ".py",
   "mimetype": "text/x-python",
   "name": "python",
   "nbconvert_exporter": "python",
   "pygments_lexer": "ipython3",
   "version": "3.11.6"
  }
 },
 "nbformat": 4,
 "nbformat_minor": 2
}
