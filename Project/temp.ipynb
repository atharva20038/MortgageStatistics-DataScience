{
 "cells": [
  {
   "cell_type": "code",
   "execution_count": 3,
   "metadata": {},
   "outputs": [],
   "source": [
    "import pandas as pd\n",
    "import numpy as np"
   ]
  },
  {
   "cell_type": "code",
   "execution_count": 53,
   "metadata": {},
   "outputs": [],
   "source": [
    "data1 = pd.read_csv('archive/Alternate Wide Format Files/nmdb-new-mortgage-statistics-all-counts-alt-annual.csv')\n",
    "data2 = pd.read_csv('archive/Alternate Wide Format Files/nmdb-new-mortgage-statistics-all-volume-alt-annual.csv')\n",
    "data3 = pd.read_csv('archive/Alternate Wide Format Files/nmdb-new-mortgage-statistics-national-census-areas-counts-alt-annual.csv')"
   ]
  },
  {
   "cell_type": "code",
   "execution_count": 51,
   "metadata": {},
   "outputs": [],
   "source": [
    "#remove rows where column at index 60 is null\n",
    "data1 = data1[data1.iloc[:,11].notnull()]"
   ]
  },
  {
   "cell_type": "code",
   "execution_count": 54,
   "metadata": {},
   "outputs": [
    {
     "name": "stderr",
     "output_type": "stream",
     "text": [
      "C:\\Users\\Dell\\AppData\\Local\\Temp\\ipykernel_27408\\3932364923.py:3: FutureWarning: Series.__getitem__ treating keys as positions is deprecated. In a future version, integer keys will always be treated as labels (consistent with DataFrame behavior). To access a value by position, use `ser.iloc[pos]`\n",
      "  print(i, data1.isnull().sum()[i])\n"
     ]
    },
    {
     "name": "stdout",
     "output_type": "stream",
     "text": [
      "0 0\n",
      "1 0\n",
      "2 0\n",
      "3 0\n",
      "4 0\n",
      "5 0\n",
      "6 0\n",
      "7 0\n",
      "8 0\n",
      "9 0\n",
      "10 0\n",
      "11 73\n",
      "12 73\n",
      "13 73\n",
      "14 73\n",
      "15 11\n",
      "16 11\n",
      "17 11\n",
      "18 11\n",
      "19 11\n",
      "20 73\n",
      "21 9421\n",
      "22 9421\n",
      "23 73\n",
      "24 73\n",
      "25 73\n",
      "26 73\n",
      "27 73\n",
      "28 73\n",
      "29 73\n",
      "30 73\n",
      "31 73\n",
      "32 73\n",
      "33 73\n",
      "34 73\n",
      "35 73\n",
      "36 73\n",
      "37 73\n",
      "38 73\n",
      "39 73\n",
      "40 73\n",
      "41 73\n",
      "42 73\n",
      "43 73\n",
      "44 73\n",
      "45 73\n",
      "46 73\n",
      "47 73\n",
      "48 73\n",
      "49 73\n",
      "50 73\n",
      "51 73\n",
      "52 73\n",
      "53 9421\n",
      "54 9421\n",
      "55 9421\n",
      "56 9421\n",
      "57 9421\n",
      "58 9421\n",
      "59 9421\n",
      "60 9421\n",
      "61 9421\n",
      "62 9421\n",
      "63 73\n",
      "64 73\n",
      "65 73\n",
      "66 73\n",
      "67 73\n",
      "68 73\n",
      "69 73\n",
      "70 73\n",
      "71 73\n",
      "72 73\n",
      "73 73\n"
     ]
    }
   ],
   "source": [
    "# print null values of all columns in dataset\n",
    "for i in range(len(data1.isnull().sum())):\n",
    "    print(i, data1.isnull().sum()[i])"
   ]
  },
  {
   "cell_type": "code",
   "execution_count": 37,
   "metadata": {},
   "outputs": [
    {
     "data": {
      "text/plain": [
       "Index(['SOURCE', 'FREQUENCY', 'GEOLEVEL', 'GEOID', 'GEONAME', 'MARKET',\n",
       "       'PERIOD', 'YEAR', 'QUARTER', 'MONTH', 'SUPPRESSED', 'TOT_ORIG',\n",
       "       'AVE_LOANAMT', 'AVE_PROPVAL', 'AVE_INTRATE', 'PCT_INTRATE_LT_3',\n",
       "       'PCT_INTRATE_3_4', 'PCT_INTRATE_4_5', 'PCT_INTRATE_5_6',\n",
       "       'PCT_INTRATE_GE_6', 'PCT_OWNOCC', 'PCT_FTHB', 'PCT_REPEATHB', 'PCT_HP',\n",
       "       'PCT_CASHOUT', 'PCT_OTH_REFI', 'PCT_REFI', 'AVE_TERM', 'PCT_ARM',\n",
       "       'PCT_TERM_FRM_15', 'PCT_TERM_FRM_30', 'AVE_DTI', 'PCT_DTI_LE36',\n",
       "       'PCT_DTI_3743', 'PCT_DTI_GE44', 'AVE_VANTAGESCR', 'PCT_VS_VERYPOOR',\n",
       "       'PCT_VS_POOR', 'PCT_VS_FAIR', 'PCT_VS_GOOD', 'PCT_VS_EXCELLENT',\n",
       "       'AVE_LTV', 'AVE_CLTV', 'PCT_LTV_LE70', 'PCT_LTV_7080', 'PCT_LTV_8090',\n",
       "       'PCT_LTV_9095', 'PCT_LTV_9597', 'PCT_LTV_GT97', 'PCT_GOVERNMENT',\n",
       "       'PCT_ENTERPRISE', 'PCT_OTHERCONFORMING', 'PCT_NONCONFORMING', 'PCT_WHT',\n",
       "       'PCT_BLK', 'PCT_ASN', 'PCT_HPI', 'PCT_AMI', 'PCT_MIX', 'PCT_HIS',\n",
       "       'PCT_HSP', 'PCT_WNH', 'PCT_MNH', 'AVE_AGE_BORROWER', 'PCT_AGE_LT25',\n",
       "       'PCT_AGE_2534', 'PCT_AGE_3544', 'PCT_AGE_4554', 'PCT_AGE_5564',\n",
       "       'PCT_AGE_GE65', 'PCT_MALEBOR', 'PCT_FEMALEBOR', 'PCT_TWOBOR',\n",
       "       'PCT_MULTIBOR'],\n",
       "      dtype='object')"
      ]
     },
     "execution_count": 37,
     "metadata": {},
     "output_type": "execute_result"
    }
   ],
   "source": [
    "data1.columns"
   ]
  },
  {
   "cell_type": "code",
   "execution_count": 36,
   "metadata": {},
   "outputs": [
    {
     "name": "stdout",
     "output_type": "stream",
     "text": [
      "Index(['TOT_ORIG', 'AVE_LOANAMT', 'AVE_PROPVAL', 'AVE_INTRATE'], dtype='object')\n"
     ]
    }
   ],
   "source": [
    "#print 22 column\n",
    "print(data1.columns[11:15])"
   ]
  },
  {
   "cell_type": "code",
   "execution_count": 58,
   "metadata": {},
   "outputs": [
    {
     "data": {
      "text/plain": [
       "0        11683.0\n",
       "1         9497.0\n",
       "2         7324.0\n",
       "3        12852.0\n",
       "4        15402.0\n",
       "          ...   \n",
       "37423        0.0\n",
       "37424        0.0\n",
       "37425        0.0\n",
       "37426        0.0\n",
       "37433        NaN\n",
       "Name: TOT_ORIG, Length: 9421, dtype: float64"
      ]
     },
     "execution_count": 58,
     "metadata": {},
     "output_type": "execute_result"
    }
   ],
   "source": [
    "#rows in data 1 where column 63 is null\n",
    "data1[data1[data1.columns[60]].isnull()].loc[:,data1.columns[11]]"
   ]
  },
  {
   "cell_type": "code",
   "execution_count": 55,
   "metadata": {},
   "outputs": [],
   "source": [
    "temp = pd.read_csv('archive/Annual Data (1998-2021)/All Geographic Areas/nmdb-new-mortgage-statistics-all-annual.csv')"
   ]
  },
  {
   "cell_type": "code",
   "execution_count": 56,
   "metadata": {},
   "outputs": [
    {
     "data": {
      "text/plain": [
       "SOURCE             0\n",
       "FREQUENCY          0\n",
       "SERIESID           0\n",
       "GEOLEVEL           0\n",
       "GEOID              0\n",
       "GEONAME            0\n",
       "MARKET             0\n",
       "PERIOD             0\n",
       "YEAR               0\n",
       "QUARTER            0\n",
       "MONTH              0\n",
       "SUPPRESSED         0\n",
       "VALUE1        116410\n",
       "VALUE2        191154\n",
       "dtype: int64"
      ]
     },
     "execution_count": 56,
     "metadata": {},
     "output_type": "execute_result"
    }
   ],
   "source": [
    "temp.isnull().sum()"
   ]
  },
  {
   "cell_type": "code",
   "execution_count": null,
   "metadata": {},
   "outputs": [],
   "source": []
  }
 ],
 "metadata": {
  "kernelspec": {
   "display_name": "Python 3",
   "language": "python",
   "name": "python3"
  },
  "language_info": {
   "codemirror_mode": {
    "name": "ipython",
    "version": 3
   },
   "file_extension": ".py",
   "mimetype": "text/x-python",
   "name": "python",
   "nbconvert_exporter": "python",
   "pygments_lexer": "ipython3",
   "version": "3.11.6"
  }
 },
 "nbformat": 4,
 "nbformat_minor": 2
}
